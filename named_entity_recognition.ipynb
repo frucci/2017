{
 "cells": [
  {
   "cell_type": "code",
   "execution_count": 1,
   "metadata": {
    "ExecuteTime": {
     "end_time": "2017-07-05T16:34:35.056679Z",
     "start_time": "2017-07-05T16:34:34.141588Z"
    },
    "collapsed": true
   },
   "outputs": [],
   "source": [
    "import nltk\n",
    "from nltk.tag import StanfordNERTagger"
   ]
  },
  {
   "cell_type": "code",
   "execution_count": 2,
   "metadata": {
    "ExecuteTime": {
     "end_time": "2017-07-05T16:34:35.245698Z",
     "start_time": "2017-07-05T16:34:35.237697Z"
    },
    "collapsed": true
   },
   "outputs": [],
   "source": [
    "sentences = [\n",
    "    'Facebook is an American for-profit corporation based in Menlo Park, California.',\n",
    "    'The Facebook website was launched on February 4, 2004, by Mark Zuckerberg, along with fellow Harvard College students and roommates, Eduardo Saverin, Andrew McCollum, Dustin Moskovitz, and Chris Hughes.',\n",
    "    'Apple Inc. is an American multinational technology company headquartered in Cupertino, California.',\n",
    "    'Apple was founded by Steve Jobs, Steve Wozniak, and Ronald Wayne in April 1976 to develop and sell personal computers',\n",
    "    'Microsoft was founded by Paul Allen and Bill Gates on April 4, 1975, to develop and sell BASIC interpreters for the Altair 8800.'\n",
    "    'Saul Hudson better known by his stage name Slash, is a British-American musician and songwriter. He is best known as the lead guitarist of the American rock band Guns N\\' Roses.',\n",
    "    'England is a country that is part of the United Kingdom. It shares land borders with Scotland to the north and Wales to the west.',\n",
    "    'Starbucks was founded in Seattle, Washington in 1971. As of November 2016, it operates 23,768 locations worldwide.',\n",
    "    'Mario Draghi is an Italian economist who has served as President of the European Central Bank since November 2011.',\n",
    "    'Italy is a unitary parliamentary republic in Europe. Italy shares open land borders with France, Switzerland, Austria, Slovenia, San Marino and Vatican City.',\n",
    "    'Tesla is an American automaker, energy storage company, and solar panel manufacturer based in Palo Alto.',\n",
    "    'Elon Reeve Musk is a South African-born Canadian-American business magnate, investor, engineer, and inventor.',\n",
    "    'Musk has stated that the goals of SolarCity, Tesla, and SpaceX revolve around his vision to change the world and humanity.',\n",
    "    'Steven Paul Jobs was an American entrepreneur, businessman, inventor, and industrial designer.',\n",
    "    'Jobs and Wozniak co-founded Apple in 1976 to sell Wozniak\\'s Apple I personal computer.',\n",
    "    'McDonald\\'s is an American hamburger and fast food restaurant chain.',\n",
    "    'Your time is limited, so don’t waste it living someone else’s life.',\n",
    "    'As Sinatra said \"The best revenge is massive success\"!',\n",
    "    'Frank Underwood is the main character of House of Cards',\n",
    "    'Kevin Spacey is my favorite actor'\n",
    "]"
   ]
  },
  {
   "cell_type": "code",
   "execution_count": 3,
   "metadata": {
    "ExecuteTime": {
     "end_time": "2017-07-05T16:34:36.239798Z",
     "start_time": "2017-07-05T16:34:36.235797Z"
    },
    "collapsed": true
   },
   "outputs": [],
   "source": [
    "import os\n",
    "java_path = \"C:\\\\Program Files\\\\Java\\\\jdk1.8.0_25\\\\bin\\\\java.exe\"\n",
    "os.environ['JAVAHOME'] = java_path"
   ]
  },
  {
   "cell_type": "code",
   "execution_count": 4,
   "metadata": {
    "ExecuteTime": {
     "end_time": "2017-07-05T16:34:36.752849Z",
     "start_time": "2017-07-05T16:34:36.747848Z"
    },
    "collapsed": false
   },
   "outputs": [],
   "source": [
    "st = StanfordNERTagger(\n",
    "    './stanford/classifiers/english.all.3class.distsim.crf.ser.gz',\n",
    "    './stanford/stanford-ner.jar',\n",
    "    encoding='latin1')"
   ]
  },
  {
   "cell_type": "code",
   "execution_count": 5,
   "metadata": {
    "ExecuteTime": {
     "end_time": "2017-07-05T16:34:37.727946Z",
     "start_time": "2017-07-05T16:34:37.708945Z"
    },
    "collapsed": false
   },
   "outputs": [],
   "source": [
    "def split2(x,by=2):\n",
    "    out = []\n",
    "    for i in range(0,len(x)):\n",
    "        if i % 2 == 0:\n",
    "            out.append(tuple(x[i:i+2]))\n",
    "    return(out)\n",
    "\n",
    "def from_sentence_to_ne(x,method='nltk'):\n",
    "    token = nltk.word_tokenize(x)\n",
    "    if method == 'nltk':\n",
    "        tag = nltk.pos_tag(token)\n",
    "        ne = nltk.ne_chunk(tag)\n",
    "        out = nltk.chunk.tree2conllstr(ne)\n",
    "        \n",
    "        out = out.split()\n",
    "        length = len(out)\n",
    "        for i in range(0,length):\n",
    "            if i % 2 != 0:\n",
    "                try:\n",
    "                    del out[i]\n",
    "                except IndexError:\n",
    "                    break\n",
    "        out = split2(out)\n",
    "    else:\n",
    "        out = st.tag(token) \n",
    "    return(out)"
   ]
  },
  {
   "cell_type": "code",
   "execution_count": null,
   "metadata": {
    "collapsed": true
   },
   "outputs": [],
   "source": []
  },
  {
   "cell_type": "code",
   "execution_count": 9,
   "metadata": {
    "ExecuteTime": {
     "end_time": "2017-07-05T16:36:02.977471Z",
     "start_time": "2017-07-05T16:36:02.895462Z"
    },
    "collapsed": false
   },
   "outputs": [
    {
     "name": "stdout",
     "output_type": "stream",
     "text": [
      "Facebook is an American for-profit corporation based in Menlo Park, California.\n",
      "\n",
      "\n",
      "('Facebook', 'B-GPE')\n",
      "('American', 'B-GPE')\n",
      "('Menlo', 'B-GPE')\n",
      "('Park', 'I-GPE')\n",
      "('California', 'B-GPE')\n",
      "\n",
      "\n",
      "\n",
      "The Facebook website was launched on February 4, 2004, by Mark Zuckerberg, along with fellow Harvard College students and roommates, Eduardo Saverin, Andrew McCollum, Dustin Moskovitz, and Chris Hughes.\n",
      "\n",
      "\n",
      "('Facebook', 'B-ORGANIZATION')\n",
      "('Mark', 'B-PERSON')\n",
      "('Zuckerberg', 'I-PERSON')\n",
      "('Harvard', 'B-ORGANIZATION')\n",
      "('College', 'I-ORGANIZATION')\n",
      "('Eduardo', 'B-PERSON')\n",
      "('Saverin', 'I-PERSON')\n",
      "('Andrew', 'B-PERSON')\n",
      "('McCollum', 'I-PERSON')\n",
      "('Dustin', 'B-PERSON')\n",
      "('Moskovitz', 'I-PERSON')\n",
      "('Chris', 'B-PERSON')\n",
      "('Hughes', 'I-PERSON')\n",
      "\n",
      "\n",
      "\n",
      "Apple Inc. is an American multinational technology company headquartered in Cupertino, California.\n",
      "\n",
      "\n",
      "('Apple', 'B-PERSON')\n",
      "('Inc.', 'B-ORGANIZATION')\n",
      "('American', 'B-GPE')\n",
      "('Cupertino', 'B-GPE')\n",
      "('California', 'B-GPE')\n",
      "\n",
      "\n",
      "\n",
      "Apple was founded by Steve Jobs, Steve Wozniak, and Ronald Wayne in April 1976 to develop and sell personal computers\n",
      "\n",
      "\n",
      "('Apple', 'B-PERSON')\n",
      "('Steve', 'B-PERSON')\n",
      "('Jobs', 'I-PERSON')\n",
      "('Steve', 'B-PERSON')\n",
      "('Wozniak', 'I-PERSON')\n",
      "('Ronald', 'B-PERSON')\n",
      "('Wayne', 'I-PERSON')\n",
      "\n",
      "\n",
      "\n",
      "Microsoft was founded by Paul Allen and Bill Gates on April 4, 1975, to develop and sell BASIC interpreters for the Altair 8800.Saul Hudson better known by his stage name Slash, is a British-American musician and songwriter. He is best known as the lead guitarist of the American rock band Guns N' Roses.\n",
      "\n",
      "\n",
      "('Microsoft', 'B-PERSON')\n",
      "('Paul', 'B-PERSON')\n",
      "('Allen', 'I-PERSON')\n",
      "('Bill', 'B-PERSON')\n",
      "('Gates', 'I-PERSON')\n",
      "('BASIC', 'B-ORGANIZATION')\n",
      "('Slash', 'B-PERSON')\n",
      "('American', 'B-GPE')\n",
      "('Guns', 'B-PERSON')\n",
      "('N', 'I-PERSON')\n",
      "\n",
      "\n",
      "\n",
      "Wall time: 72 ms\n"
     ]
    }
   ],
   "source": [
    "%%time\n",
    "method = 'nltk'\n",
    "for s in sentences[0:5]:\n",
    "    app = from_sentence_to_ne(s, method=method)\n",
    "    print(s)\n",
    "    print('\\n')\n",
    "    for i in app:\n",
    "        if i[1]!='O':\n",
    "            print(i)\n",
    "    print(\"\\n\\n\")"
   ]
  },
  {
   "cell_type": "code",
   "execution_count": 10,
   "metadata": {
    "ExecuteTime": {
     "end_time": "2017-07-05T16:36:43.576530Z",
     "start_time": "2017-07-05T16:36:31.024275Z"
    },
    "collapsed": false
   },
   "outputs": [
    {
     "name": "stdout",
     "output_type": "stream",
     "text": [
      "Facebook is an American for-profit corporation based in Menlo Park, California.\n",
      "\n",
      "\n",
      "('Facebook', 'ORGANIZATION')\n",
      "('Menlo', 'LOCATION')\n",
      "('Park', 'LOCATION')\n",
      "('California', 'LOCATION')\n",
      "\n",
      "\n",
      "\n",
      "The Facebook website was launched on February 4, 2004, by Mark Zuckerberg, along with fellow Harvard College students and roommates, Eduardo Saverin, Andrew McCollum, Dustin Moskovitz, and Chris Hughes.\n",
      "\n",
      "\n",
      "('Facebook', 'ORGANIZATION')\n",
      "('Mark', 'PERSON')\n",
      "('Zuckerberg', 'PERSON')\n",
      "('Harvard', 'ORGANIZATION')\n",
      "('College', 'ORGANIZATION')\n",
      "('Eduardo', 'PERSON')\n",
      "('Saverin', 'PERSON')\n",
      "('Andrew', 'PERSON')\n",
      "('McCollum', 'PERSON')\n",
      "('Dustin', 'PERSON')\n",
      "('Moskovitz', 'PERSON')\n",
      "('Chris', 'PERSON')\n",
      "('Hughes', 'PERSON')\n",
      "\n",
      "\n",
      "\n",
      "Apple Inc. is an American multinational technology company headquartered in Cupertino, California.\n",
      "\n",
      "\n",
      "('Apple', 'ORGANIZATION')\n",
      "('Inc.', 'ORGANIZATION')\n",
      "('Cupertino', 'LOCATION')\n",
      "('California', 'LOCATION')\n",
      "\n",
      "\n",
      "\n",
      "Apple was founded by Steve Jobs, Steve Wozniak, and Ronald Wayne in April 1976 to develop and sell personal computers\n",
      "\n",
      "\n",
      "('Steve', 'PERSON')\n",
      "('Jobs', 'PERSON')\n",
      "('Steve', 'PERSON')\n",
      "('Wozniak', 'PERSON')\n",
      "('Ronald', 'PERSON')\n",
      "('Wayne', 'PERSON')\n",
      "\n",
      "\n",
      "\n",
      "Microsoft was founded by Paul Allen and Bill Gates on April 4, 1975, to develop and sell BASIC interpreters for the Altair 8800.Saul Hudson better known by his stage name Slash, is a British-American musician and songwriter. He is best known as the lead guitarist of the American rock band Guns N' Roses.\n",
      "\n",
      "\n",
      "('Microsoft', 'ORGANIZATION')\n",
      "('Paul', 'PERSON')\n",
      "('Allen', 'PERSON')\n",
      "('Bill', 'PERSON')\n",
      "('Gates', 'PERSON')\n",
      "('Hudson', 'LOCATION')\n",
      "\n",
      "\n",
      "\n",
      "Wall time: 12.5 s\n"
     ]
    }
   ],
   "source": [
    "%%time\n",
    "method = 'stanford'\n",
    "for s in sentences[0:5]:\n",
    "    app = from_sentence_to_ne(s, method=method)\n",
    "    print(s)\n",
    "    print('\\n')\n",
    "    for i in app:\n",
    "        if i[1]!='O':\n",
    "            print(i)\n",
    "    print(\"\\n\\n\")"
   ]
  }
 ],
 "metadata": {
  "kernelspec": {
   "display_name": "Python 3",
   "language": "python",
   "name": "python3"
  },
  "language_info": {
   "codemirror_mode": {
    "name": "ipython",
    "version": 3
   },
   "file_extension": ".py",
   "mimetype": "text/x-python",
   "name": "python",
   "nbconvert_exporter": "python",
   "pygments_lexer": "ipython3",
   "version": "3.6.0"
  }
 },
 "nbformat": 4,
 "nbformat_minor": 2
}

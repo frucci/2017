{
 "cells": [
  {
   "cell_type": "markdown",
   "metadata": {},
   "source": [
    "#### Hello everyone,\n",
    "\n",
    "#### Welcome to this place.\n",
    "\n",
    "This notebook is a detail of previous notebooks. In my first notebook ( http://nbviewer.jupyter.org/github/frucci/2017/blob/master/word_clustering_pt_1.ipynb ) I've shoved in a couple of ways to do words clustering.\n",
    "\n",
    "Here I'm going to apply an easy Kmeans into the simple words list I've introduced in the previous notebook.\n",
    "\n",
    "In this notebook I'll show you a way to visualize the n-dimensional space of word2vec in a bidimensional and more intuitive space.\n",
    "\n",
    "The dimensionality reduction will be done by applying the famous TSNE (you can find the original paper here http://www.cs.toronto.edu/~hinton/absps/tsne.pdf). You can also find a funny guide here (https://distill.pub/2016/misread-tsne/)\n",
    "\n",
    "t-SNE is a technique to manage high-dimensional vectors. It turns a list of high-dimensional vectors into a list of lower dimension vectors, while keeping the relative similarity as close to the original data as possible.\n",
    "\n",
    "This algorithm seems more efficient than others but it looks really slow.\n",
    "\n",
    "Also if I've spoken about t-SNE as a trasformation for dimensionality reduction I've introduced you as a tool for data visualization. Some people use t-SNE as dimensionality reduction tool, others don't. I'm in this second category, because t-SNE cannot fit in a fixed dataset and transform in another dataset. It's a bit awkward because if you have a new row you have to \"re-train\" the entire dataset if you want to transform the new row.\n",
    "\n",
    "#### STRATEGY:\n",
    "\n",
    "In this notebook I'll show you an already known (if you've followed my previous works) KMeans as words clustering method. When the label will be founded I'll show you a two-dimensional plot of this cluster."
   ]
  },
  {
   "cell_type": "code",
   "execution_count": 1,
   "metadata": {
    "ExecuteTime": {
     "end_time": "2017-11-07T11:42:41.075500Z",
     "start_time": "2017-11-07T11:42:39.013500Z"
    }
   },
   "outputs": [
    {
     "name": "stderr",
     "output_type": "stream",
     "text": [
      "c:\\users\\e3850003\\appdata\\local\\continuum\\anaconda3\\lib\\site-packages\\gensim\\utils.py:860: UserWarning: detected Windows; aliasing chunkize to chunkize_serial\n",
      "  warnings.warn(\"detected Windows; aliasing chunkize to chunkize_serial\")\n",
      "Slow version of gensim.models.doc2vec is being used\n"
     ]
    }
   ],
   "source": [
    "import pandas as pd\n",
    "import numpy as np\n",
    "from gensim.models import KeyedVectors\n",
    "\n",
    "from sklearn.cluster import KMeans\n",
    "from sklearn.manifold import TSNE\n",
    "\n",
    "import matplotlib.pyplot as plt"
   ]
  },
  {
   "cell_type": "code",
   "execution_count": 2,
   "metadata": {
    "ExecuteTime": {
     "end_time": "2017-11-07T11:42:41.095500Z",
     "start_time": "2017-11-07T11:42:41.077500Z"
    },
    "collapsed": true
   },
   "outputs": [],
   "source": [
    "words = ['man','woman','girl','boy','father','grandfather','grandmother',\n",
    "         'one','two','three','four','five','seven',\n",
    "         'dog','cat','rabbit',\n",
    "         'queen','king','princess',\n",
    "         'text','word','mail','letter',\n",
    "         'laptop','desktop','keyboard','monitor',\n",
    "         'kitchen','bathroom','bedroom','room',\n",
    "         'shoes','skirt','dress','shirt',\n",
    "         'apple','pear','banana','watermelon','peach',\n",
    "         'blue','red','white','yellow','black','brown',\n",
    "         'school','university','class','course','teacher',\n",
    "         'finance','corporate','economic','price','stock'\n",
    "]\n",
    "\n",
    "words.sort()\n",
    "lwords = len(words)"
   ]
  },
  {
   "cell_type": "code",
   "execution_count": 3,
   "metadata": {
    "ExecuteTime": {
     "end_time": "2017-11-07T11:43:33.852500Z",
     "start_time": "2017-11-07T11:42:41.099500Z"
    }
   },
   "outputs": [
    {
     "name": "stdout",
     "output_type": "stream",
     "text": [
      "Wall time: 52.7 s\n"
     ]
    }
   ],
   "source": [
    "%%time\n",
    "model = KeyedVectors.load_word2vec_format('GoogleNews-vectors-negative300.bin', binary=True)"
   ]
  },
  {
   "cell_type": "code",
   "execution_count": 4,
   "metadata": {
    "ExecuteTime": {
     "end_time": "2017-11-07T11:43:34.104500Z",
     "start_time": "2017-11-07T11:43:33.870500Z"
    }
   },
   "outputs": [
    {
     "data": {
      "text/html": [
       "<div>\n",
       "<table border=\"1\" class=\"dataframe\">\n",
       "  <thead>\n",
       "    <tr style=\"text-align: right;\">\n",
       "      <th></th>\n",
       "      <th>w2v_0</th>\n",
       "      <th>w2v_1</th>\n",
       "      <th>w2v_2</th>\n",
       "      <th>w2v_3</th>\n",
       "      <th>w2v_4</th>\n",
       "      <th>w2v_5</th>\n",
       "      <th>w2v_6</th>\n",
       "      <th>w2v_7</th>\n",
       "      <th>w2v_8</th>\n",
       "      <th>w2v_9</th>\n",
       "      <th>...</th>\n",
       "      <th>w2v_290</th>\n",
       "      <th>w2v_291</th>\n",
       "      <th>w2v_292</th>\n",
       "      <th>w2v_293</th>\n",
       "      <th>w2v_294</th>\n",
       "      <th>w2v_295</th>\n",
       "      <th>w2v_296</th>\n",
       "      <th>w2v_297</th>\n",
       "      <th>w2v_298</th>\n",
       "      <th>w2v_299</th>\n",
       "    </tr>\n",
       "  </thead>\n",
       "  <tbody>\n",
       "    <tr>\n",
       "      <th>apple</th>\n",
       "      <td>-0.064453</td>\n",
       "      <td>-0.160156</td>\n",
       "      <td>-0.012085</td>\n",
       "      <td>0.134766</td>\n",
       "      <td>-0.229492</td>\n",
       "      <td>0.162109</td>\n",
       "      <td>0.304688</td>\n",
       "      <td>-0.179688</td>\n",
       "      <td>-0.121094</td>\n",
       "      <td>0.253906</td>\n",
       "      <td>...</td>\n",
       "      <td>-0.126953</td>\n",
       "      <td>-0.039795</td>\n",
       "      <td>0.131836</td>\n",
       "      <td>-0.166016</td>\n",
       "      <td>0.125000</td>\n",
       "      <td>0.051270</td>\n",
       "      <td>-0.149414</td>\n",
       "      <td>0.136719</td>\n",
       "      <td>-0.020752</td>\n",
       "      <td>0.343750</td>\n",
       "    </tr>\n",
       "    <tr>\n",
       "      <th>banana</th>\n",
       "      <td>-0.085449</td>\n",
       "      <td>0.047119</td>\n",
       "      <td>-0.069336</td>\n",
       "      <td>0.302734</td>\n",
       "      <td>-0.187500</td>\n",
       "      <td>-0.031982</td>\n",
       "      <td>0.029541</td>\n",
       "      <td>-0.205078</td>\n",
       "      <td>-0.090332</td>\n",
       "      <td>0.298828</td>\n",
       "      <td>...</td>\n",
       "      <td>-0.177734</td>\n",
       "      <td>-0.082520</td>\n",
       "      <td>0.038574</td>\n",
       "      <td>-0.294922</td>\n",
       "      <td>0.005524</td>\n",
       "      <td>0.054443</td>\n",
       "      <td>-0.094727</td>\n",
       "      <td>0.126953</td>\n",
       "      <td>0.117188</td>\n",
       "      <td>0.177734</td>\n",
       "    </tr>\n",
       "    <tr>\n",
       "      <th>bathroom</th>\n",
       "      <td>-0.047363</td>\n",
       "      <td>0.036133</td>\n",
       "      <td>-0.023926</td>\n",
       "      <td>-0.161133</td>\n",
       "      <td>0.098633</td>\n",
       "      <td>0.098145</td>\n",
       "      <td>-0.061768</td>\n",
       "      <td>-0.017212</td>\n",
       "      <td>0.515625</td>\n",
       "      <td>-0.031128</td>\n",
       "      <td>...</td>\n",
       "      <td>-0.084473</td>\n",
       "      <td>0.021118</td>\n",
       "      <td>0.090820</td>\n",
       "      <td>-0.023438</td>\n",
       "      <td>-0.087402</td>\n",
       "      <td>-0.163086</td>\n",
       "      <td>-0.135742</td>\n",
       "      <td>0.023193</td>\n",
       "      <td>0.000824</td>\n",
       "      <td>0.158203</td>\n",
       "    </tr>\n",
       "    <tr>\n",
       "      <th>bedroom</th>\n",
       "      <td>0.167969</td>\n",
       "      <td>-0.161133</td>\n",
       "      <td>-0.023682</td>\n",
       "      <td>-0.102051</td>\n",
       "      <td>0.408203</td>\n",
       "      <td>0.027832</td>\n",
       "      <td>0.116211</td>\n",
       "      <td>-0.122070</td>\n",
       "      <td>0.287109</td>\n",
       "      <td>0.177734</td>\n",
       "      <td>...</td>\n",
       "      <td>-0.330078</td>\n",
       "      <td>-0.076660</td>\n",
       "      <td>-0.090820</td>\n",
       "      <td>0.131836</td>\n",
       "      <td>-0.100586</td>\n",
       "      <td>-0.341797</td>\n",
       "      <td>-0.006897</td>\n",
       "      <td>-0.087402</td>\n",
       "      <td>0.126953</td>\n",
       "      <td>0.192383</td>\n",
       "    </tr>\n",
       "    <tr>\n",
       "      <th>black</th>\n",
       "      <td>0.104980</td>\n",
       "      <td>0.018433</td>\n",
       "      <td>0.008972</td>\n",
       "      <td>-0.012817</td>\n",
       "      <td>-0.028809</td>\n",
       "      <td>-0.059326</td>\n",
       "      <td>-0.089844</td>\n",
       "      <td>-0.068359</td>\n",
       "      <td>0.172852</td>\n",
       "      <td>0.019043</td>\n",
       "      <td>...</td>\n",
       "      <td>-0.014648</td>\n",
       "      <td>-0.024292</td>\n",
       "      <td>-0.281250</td>\n",
       "      <td>0.083496</td>\n",
       "      <td>-0.086426</td>\n",
       "      <td>-0.004333</td>\n",
       "      <td>0.175781</td>\n",
       "      <td>0.092285</td>\n",
       "      <td>0.061035</td>\n",
       "      <td>-0.132812</td>\n",
       "    </tr>\n",
       "  </tbody>\n",
       "</table>\n",
       "<p>5 rows × 300 columns</p>\n",
       "</div>"
      ],
      "text/plain": [
       "             w2v_0     w2v_1     w2v_2     w2v_3     w2v_4     w2v_5  \\\n",
       "apple    -0.064453 -0.160156 -0.012085  0.134766 -0.229492  0.162109   \n",
       "banana   -0.085449  0.047119 -0.069336  0.302734 -0.187500 -0.031982   \n",
       "bathroom -0.047363  0.036133 -0.023926 -0.161133  0.098633  0.098145   \n",
       "bedroom   0.167969 -0.161133 -0.023682 -0.102051  0.408203  0.027832   \n",
       "black     0.104980  0.018433  0.008972 -0.012817 -0.028809 -0.059326   \n",
       "\n",
       "             w2v_6     w2v_7     w2v_8     w2v_9    ...      w2v_290  \\\n",
       "apple     0.304688 -0.179688 -0.121094  0.253906    ...    -0.126953   \n",
       "banana    0.029541 -0.205078 -0.090332  0.298828    ...    -0.177734   \n",
       "bathroom -0.061768 -0.017212  0.515625 -0.031128    ...    -0.084473   \n",
       "bedroom   0.116211 -0.122070  0.287109  0.177734    ...    -0.330078   \n",
       "black    -0.089844 -0.068359  0.172852  0.019043    ...    -0.014648   \n",
       "\n",
       "           w2v_291   w2v_292   w2v_293   w2v_294   w2v_295   w2v_296  \\\n",
       "apple    -0.039795  0.131836 -0.166016  0.125000  0.051270 -0.149414   \n",
       "banana   -0.082520  0.038574 -0.294922  0.005524  0.054443 -0.094727   \n",
       "bathroom  0.021118  0.090820 -0.023438 -0.087402 -0.163086 -0.135742   \n",
       "bedroom  -0.076660 -0.090820  0.131836 -0.100586 -0.341797 -0.006897   \n",
       "black    -0.024292 -0.281250  0.083496 -0.086426 -0.004333  0.175781   \n",
       "\n",
       "           w2v_297   w2v_298   w2v_299  \n",
       "apple     0.136719 -0.020752  0.343750  \n",
       "banana    0.126953  0.117188  0.177734  \n",
       "bathroom  0.023193  0.000824  0.158203  \n",
       "bedroom  -0.087402  0.126953  0.192383  \n",
       "black     0.092285  0.061035 -0.132812  \n",
       "\n",
       "[5 rows x 300 columns]"
      ]
     },
     "execution_count": 4,
     "metadata": {},
     "output_type": "execute_result"
    }
   ],
   "source": [
    "matrix = pd.DataFrame(0, index=words, columns = ['w2v_'+str(i) for i in range(0,300)])\n",
    "for w in words:\n",
    "    matrix.loc[w] =  model.word_vec(w)\n",
    "    \n",
    "matrix.head()"
   ]
  },
  {
   "cell_type": "code",
   "execution_count": 5,
   "metadata": {
    "ExecuteTime": {
     "end_time": "2017-11-07T11:43:34.216500Z",
     "start_time": "2017-11-07T11:43:34.109500Z"
    }
   },
   "outputs": [
    {
     "name": "stdout",
     "output_type": "stream",
     "text": [
      "    cluster       name\n",
      "10        0  corporate\n",
      "15        0   economic\n",
      "17        0    finance\n",
      "30        0    monitor\n",
      "34        0      price\n",
      "45        0      stock\n",
      "\n",
      "\n",
      "    cluster         name\n",
      "6         1          boy\n",
      "16        1       father\n",
      "20        1         girl\n",
      "21        1  grandfather\n",
      "22        1  grandmother\n",
      "29        1          man\n",
      "53        1        woman\n",
      "\n",
      "\n",
      "    cluster        name\n",
      "0         2       apple\n",
      "1         2      banana\n",
      "32        2       peach\n",
      "33        2        pear\n",
      "51        2  watermelon\n",
      "\n",
      "\n",
      "    cluster    name\n",
      "8         3     cat\n",
      "13        3     dog\n",
      "37        3  rabbit\n",
      "\n",
      "\n",
      "    cluster    name\n",
      "4         4   black\n",
      "5         4    blue\n",
      "7         4   brown\n",
      "38        4     red\n",
      "52        4   white\n",
      "55        4  yellow\n",
      "\n",
      "\n",
      "    cluster      name\n",
      "2         5  bathroom\n",
      "3         5   bedroom\n",
      "25        5   kitchen\n",
      "39        5      room\n",
      "\n",
      "\n",
      "    cluster        name\n",
      "9         6       class\n",
      "11        6      course\n",
      "18        6        five\n",
      "19        6        four\n",
      "31        6         one\n",
      "40        6      school\n",
      "41        6       seven\n",
      "46        6     teacher\n",
      "48        6       three\n",
      "49        6         two\n",
      "50        6  university\n",
      "\n",
      "\n",
      "    cluster      name\n",
      "12        7   desktop\n",
      "23        7  keyboard\n",
      "26        7    laptop\n",
      "\n",
      "\n",
      "    cluster      name\n",
      "24        8      king\n",
      "35        8  princess\n",
      "36        8     queen\n",
      "\n",
      "\n",
      "    cluster    name\n",
      "27        9  letter\n",
      "28        9    mail\n",
      "47        9    text\n",
      "54        9    word\n",
      "\n",
      "\n",
      "    cluster   name\n",
      "43       10  shoes\n",
      "\n",
      "\n",
      "    cluster   name\n",
      "14       11  dress\n",
      "42       11  shirt\n",
      "44       11  skirt\n",
      "\n",
      "\n"
     ]
    }
   ],
   "source": [
    "kmeans_result = KMeans(init='k-means++', n_clusters=12, n_init=10)\n",
    "kmeans_result.fit(matrix)\n",
    "\n",
    "evaluation = pd.concat(\n",
    "    [\n",
    "        pd.DataFrame(kmeans_result.labels_, columns=['cluster']),\n",
    "        pd.DataFrame(words, columns=['name'])\n",
    "    ],\n",
    "    axis=1)\n",
    "\n",
    "for i in range(0,12):\n",
    "    print(evaluation[evaluation['cluster']==i])\n",
    "    print('\\n')"
   ]
  },
  {
   "cell_type": "markdown",
   "metadata": {},
   "source": [
    "Until this point you can find the explanation on my previous notebook I've linked before. Now I'm going to apply t-SNE.\n",
    "\n",
    "\n",
    "Keep in mind that t-SNE requires the right tuning of its own hyperparameters. \n",
    "\n",
    "The parameters I'll use are not random as well as not tuned. \n",
    "\n",
    "My advice is have a look on this funny link if you want to know how the results change together with the hyperpars (https://distill.pub/2016/misread-tsne/)"
   ]
  },
  {
   "cell_type": "code",
   "execution_count": 6,
   "metadata": {
    "ExecuteTime": {
     "end_time": "2017-11-07T11:43:34.696500Z",
     "start_time": "2017-11-07T11:43:34.218500Z"
    },
    "collapsed": true
   },
   "outputs": [],
   "source": [
    "embedded_matrix = TSNE(n_components=2, perplexity=20, random_state=0, learning_rate=5).fit_transform(matrix)\n",
    "\n",
    "x0 = embedded_matrix[:,0]\n",
    "x1 = embedded_matrix[:,1]"
   ]
  },
  {
   "cell_type": "code",
   "execution_count": 7,
   "metadata": {
    "ExecuteTime": {
     "end_time": "2017-11-07T11:43:34.698500Z",
     "start_time": "2017-11-07T11:43:34.696500Z"
    }
   },
   "outputs": [
    {
     "data": {
      "text/plain": [
       "array([-0.6577454 , -0.73527822,  1.56602292,  1.62575084,  1.04744526,\n",
       "        1.2211799 , -1.4543921 ,  0.97330854,  3.15535752, -0.68531028,\n",
       "       -1.72133286, -0.38495579,  1.23757865,  3.15261343,  3.12613638,\n",
       "       -1.77729084, -2.60068108, -1.82581445, -0.33247814, -0.33910679,\n",
       "       -1.388125  , -2.7704646 , -2.5967946 ,  1.36957117, -1.73932268,\n",
       "        1.53765852,  1.27108993,  1.03486481, -0.42427181, -1.01969235,\n",
       "        0.31677051,  0.06157336, -0.52820115, -0.59686453, -3.13817721,\n",
       "       -1.75981975, -1.74787731,  3.07395159,  1.19236404,  1.25278327,\n",
       "       -1.54906279, -0.36787542,  2.56580532,  2.84036118,  3.17182253,\n",
       "       -3.1568578 , -1.88847076,  1.08906402, -0.32280817, -0.31404178,\n",
       "       -1.45550336, -0.64113355,  1.05612003, -1.0727673 ,  0.95871778,\n",
       "        1.2057506 ])"
      ]
     },
     "execution_count": 7,
     "metadata": {},
     "output_type": "execute_result"
    }
   ],
   "source": [
    "x0"
   ]
  },
  {
   "cell_type": "code",
   "execution_count": 8,
   "metadata": {
    "ExecuteTime": {
     "end_time": "2017-11-07T11:43:34.711500Z",
     "start_time": "2017-11-07T11:43:34.700500Z"
    }
   },
   "outputs": [
    {
     "data": {
      "text/plain": [
       "array([ 3.89210466,  3.70058707, -2.04383723, -2.0946331 ,  1.80722881,\n",
       "        2.31751249, -2.35030685,  2.22462886, -0.50826328, -0.5638459 ,\n",
       "        0.99617379, -0.29446652, -3.70913277, -0.51775604,  2.3866046 ,\n",
       "        1.1703464 , -1.97652378,  1.0207961 ,  0.49351953,  0.48220762,\n",
       "       -2.42664965, -2.0010456 , -2.12282847, -3.70809642, -3.9858742 ,\n",
       "       -2.01420438, -3.65882475,  0.46180543,  1.63005935, -2.08441634,\n",
       "       -0.54709254,  0.17978482,  3.81805539,  3.90653887,  1.11012646,\n",
       "       -3.90332406, -3.97379636, -0.382633  ,  2.51213007, -1.74894783,\n",
       "       -0.64145202,  0.55790777,  1.768163  ,  1.35895503,  2.50686674,\n",
       "        1.12156313, -0.86173238, -0.28948808,  0.47168185,  0.48942906,\n",
       "       -0.40573379,  3.87177126,  1.90937947, -2.2377028 ,  0.04939818,\n",
       "        2.70330673])"
      ]
     },
     "execution_count": 8,
     "metadata": {},
     "output_type": "execute_result"
    }
   ],
   "source": [
    "x1"
   ]
  },
  {
   "cell_type": "markdown",
   "metadata": {},
   "source": [
    "At this point I've created a two-dimensional transformation of the 56 words we had.\n",
    "\n",
    "Below you can find the plot of this points colored by the label of the KMeans."
   ]
  },
  {
   "cell_type": "code",
   "execution_count": 9,
   "metadata": {
    "ExecuteTime": {
     "end_time": "2017-11-07T11:43:35.117500Z",
     "start_time": "2017-11-07T11:43:34.714500Z"
    },
    "scrolled": false
   },
   "outputs": [
    {
     "data": {
      "image/png": "[encoded data removed]",
      "text/plain": [
       "<matplotlib.figure.Figure at 0x33b00a20>"
      ]
     },
     "metadata": {},
     "output_type": "display_data"
    }
   ],
   "source": [
    "fig, ax = plt.subplots()\n",
    "fig.set_figheight(12)\n",
    "fig.set_figwidth(12)\n",
    "ax.scatter(x0,x1,c=kmeans_result.labels_)\n",
    "texts = []\n",
    "for i, txt in enumerate( matrix.index ):\n",
    "    texts.append(ax.text(x0[i], x1[i], txt))\n",
    "plt.xlabel('x0')\n",
    "plt.ylabel('x1')\n",
    "plt.title('Two dimensionals plot of words embedding')\n",
    "plt.show()"
   ]
  },
  {
   "cell_type": "markdown",
   "metadata": {},
   "source": [
    "#### CONCLUSION\n",
    "\n",
    "In my opinion t-SNE is a cool tool for viz and is one of the \"must know\" in data science.\n",
    "\n",
    "Unfortunately its timing, as its memory requires, appear prohibitive with big datasets. \n",
    "\n",
    "This is just an example. I can imagine severals way to optimize these lines of code. First of all the tuning of t-SNE. \n",
    "\n",
    "I would like to be contacted for you points of view as well as for advices.\n",
    "\n",
    "##### I hope you will appreciate this example.\n",
    "##### See you around,\n",
    "##### Federico"
   ]
  }
 ],
 "metadata": {
  "kernelspec": {
   "display_name": "Python 3",
   "language": "python",
   "name": "python3"
  },
  "language_info": {
   "codemirror_mode": {
    "name": "ipython",
    "version": 3
   },
   "file_extension": ".py",
   "mimetype": "text/x-python",
   "name": "python",
   "nbconvert_exporter": "python",
   "pygments_lexer": "ipython3",
   "version": "3.6.0"
  }
 },
 "nbformat": 4,
 "nbformat_minor": 2
}

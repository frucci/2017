{
 "cells": [
  {
   "cell_type": "markdown",
   "metadata": {},
   "source": [
    "##### Hello everyone,\n",
    "\n",
    "##### Welcome to this place.\n",
    "\n",
    "This notebook is a really simple baseline of Deep Learning on Sentiment Analysis. In this notebook I'll show you a simple preprocessing and a simple neural net using Convolutional layers (CNN).\n",
    "\n",
    "In my previous notebook about Deep Learning on Sentiment (here: https://lnkd.in/d6zSWYV ) I've showed you how to build an LSTM neural net. The goal of this notebook is produce an evidence about Convolutional layers applied to NLP problems.\n",
    "\n",
    "It means that I would like to predict the sentiment of feedbacks of movies using convolutional layers. The label we have is \"0\" for bad movies (mark < 5 IMDB) and \"1\" for good movies (mark > 7 IMDB)\n",
    "\n",
    "##### STRATEGY:\n",
    "\n",
    "In this notebook i'm going to:\n",
    "\n",
    "    1) load data\n",
    "    2) clean data\n",
    "    3) train word2vec ad hoc\n",
    "    4) creat extra-variable\n",
    "    5) train model\n",
    "    \n",
    "In a previous notebook I've showed a really simple introduction to word2vec. If you want to check what I've previously done or if you just need a reminder about word2vec you can find that example here: https://lnkd.in/dddZpKt\n",
    "\n",
    "###### If you have already watched the preprocessing of the old notebook about LSTM you can skip until the model"
   ]
  },
  {
   "cell_type": "code",
   "execution_count": 2,
   "metadata": {
    "collapsed": true
   },
   "outputs": [],
   "source": [
    "import pandas as pd\n",
    "import re\n",
    "import time \n",
    "import numpy as np\n",
    "import matplotlib.pyplot as plt\n",
    "import nltk\n",
    "import re"
   ]
  },
  {
   "cell_type": "code",
   "execution_count": 12,
   "metadata": {
    "collapsed": true
   },
   "outputs": [],
   "source": [
    "from gensim.models import word2vec, KeyedVectors, Word2Vec"
   ]
  },
  {
   "cell_type": "code",
   "execution_count": 5,
   "metadata": {},
   "outputs": [
    {
     "data": {
      "text/plain": [
       "'\"With all this stuff going down at the moment with MJ i\\'ve started listening to his music, watching the odd documentary here and there, watched The Wiz and watched Moonwalker again. Maybe i just want to get a certain insight into this guy who i thought was really cool in the eighties just to maybe make up my mind whether he is guilty or innocent. Moonwalker is part biography, part feature film which i remember going to see at the cinema when it was originally released. Some of it has subtle messages about MJ\\'s feeling towards the press and also the obvious message of drugs are bad m\\'kay.<br /><br />Visually impressive but of course this is all about Michael Jackson so unless you remotely like MJ in anyway then you are going to hate this and find it boring. Some may call MJ an egotist for consenting to the making of this movie BUT MJ and most of his fans would say that he made it for the fans which if true is really nice of him.<br /><br />The actual feature film bit when it finally starts is only on for 20 minutes or so excluding the Smooth Criminal sequence and Joe Pesci is convincing as a psychopathic all powerful drug lord. Why he wants MJ dead so bad is beyond me. Because MJ overheard his plans? Nah, Joe Pesci\\'s character ranted that he wanted people to know it is he who is supplying drugs etc so i dunno, maybe he just hates MJ\\'s music.<br /><br />Lots of cool things in this like MJ turning into a car and a robot and the whole Speed Demon sequence. Also, the director must have had the patience of a saint when it came to filming the kiddy Bad sequence as usually directors hate working with one kid let alone a whole bunch of them performing a complex dance scene.<br /><br />Bottom line, this movie is for people who like MJ on one level or another (which i think is most people). If not, then stay away. It does try and give off a wholesome message and ironically MJ\\'s bestest buddy in this movie is a girl! Michael Jackson is truly one of the most talented people ever to grace this planet but is he guilty? Well, with all the attention i\\'ve gave this subject....hmmm well i don\\'t know because people can be different behind closed doors, i know this for a fact. He is either an extremely nice but stupid guy or one of the most sickest liars. I hope he is not the latter.\"'"
      ]
     },
     "execution_count": 5,
     "metadata": {},
     "output_type": "execute_result"
    }
   ],
   "source": [
    "data = pd.read_csv(\"prova.tsv\", header=0, delimiter=\"\\t\", quoting=3)\n",
    "data.review[0]"
   ]
  },
  {
   "cell_type": "code",
   "execution_count": 6,
   "metadata": {
    "collapsed": true
   },
   "outputs": [],
   "source": [
    "eng_stop = nltk.corpus.stopwords.words('english')\n",
    "\n",
    "def nostop(text, stops):\n",
    "    pattern = re.compile(r'\\b(' + r'|'.join(stops) + r')\\b\\s*')\n",
    "    text = pattern.sub(' ', text)\n",
    "    text = re.sub(\" +\", \" \", text).strip()\n",
    "    return(text)\n",
    "\n",
    "def fast_clean(x):\n",
    "    out = re.sub('[^A-Za-z0-9]+', ' ', x)\n",
    "    out = out.lower()\n",
    "    return(out)"
   ]
  },
  {
   "cell_type": "code",
   "execution_count": 8,
   "metadata": {},
   "outputs": [
    {
     "data": {
      "text/plain": [
       "'stuff going moment mj started listening music watching odd documentary watched wiz watched moonwalker maybe want get certain insight guy thought really cool eighties maybe make mind whether guilty innocent moonwalker part biography part feature film remember going see cinema originally released subtle messages mj feeling towards press also obvious message drugs bad kay br br visually impressive course michael jackson unless remotely like mj anyway going hate find boring may call mj egotist consenting making movie mj fans would say made fans true really nice br br actual feature film bit finally starts 20 minutes excluding smooth criminal sequence joe pesci convincing psychopathic powerful drug lord wants mj dead bad beyond mj overheard plans nah joe pesci character ranted wanted people know supplying drugs etc dunno maybe hates mj music br br lots cool things like mj turning car robot whole speed demon sequence also director must patience saint came filming kiddy bad sequence usually directors hate working one kid let alone whole bunch performing complex dance scene br br bottom line movie people like mj one level another think people stay away try give wholesome message ironically mj bestest buddy movie girl michael jackson truly one talented people ever grace planet guilty well attention gave subject hmmm well know people different behind closed doors know fact either extremely nice stupid guy one sickest liars hope latter'"
      ]
     },
     "execution_count": 8,
     "metadata": {},
     "output_type": "execute_result"
    }
   ],
   "source": [
    "data['review_clean_nostop'] = data.apply(axis=1, func = lambda x: nostop(fast_clean(x.review),eng_stop))\n",
    "data['review_clean_nostop'][0]"
   ]
  },
  {
   "cell_type": "code",
   "execution_count": 14,
   "metadata": {
    "collapsed": true
   },
   "outputs": [],
   "source": [
    "corpus_nltk = [i for i in data['review_clean_nostop']]\n",
    "\n",
    "corpus_nltk = \" \".join(corpus_nltk)\n",
    "token_nltk = nltk.word_tokenize(corpus_nltk)\n",
    "\n",
    "freqd_nltk = nltk.FreqDist(token_nltk)\n",
    "freqd_nltk_L = dict((k, v) for k, v in freqd_nltk.items() if v == 1)\n",
    "dropL = list(freqd_nltk_L.keys())"
   ]
  },
  {
   "cell_type": "code",
   "execution_count": 15,
   "metadata": {},
   "outputs": [
    {
     "name": "stdout",
     "output_type": "stream",
     "text": [
      "I worked for 12.44 minutes\n"
     ]
    }
   ],
   "source": [
    "x = time.time()\n",
    "data['review_clean_nostop_droplow'] = data.apply(axis=1, func = lambda x: nostop(x.review_clean_nostop,dropL))\n",
    "print('I worked for ' + str(round((time.time()-x)/60,2)) + ' minutes')"
   ]
  },
  {
   "cell_type": "code",
   "execution_count": 16,
   "metadata": {},
   "outputs": [
    {
     "data": {
      "image/png": "[encoded data removed]",
      "text/plain": [
       "<matplotlib.figure.Figure at 0x7f68e90859b0>"
      ]
     },
     "metadata": {},
     "output_type": "display_data"
    },
    {
     "data": {
      "text/plain": [
       "count    25000.000000\n",
       "mean       125.097840\n",
       "std         94.649944\n",
       "min          4.000000\n",
       "25%         66.000000\n",
       "50%         93.000000\n",
       "75%        153.000000\n",
       "max       1455.000000\n",
       "Name: len, dtype: float64"
      ]
     },
     "execution_count": 16,
     "metadata": {},
     "output_type": "execute_result"
    }
   ],
   "source": [
    "data['len'] = data.apply(axis=1, func = lambda x: len(x.review_clean_nostop.split()))\n",
    "plt.hist(data['len'], bins=100)\n",
    "plt.show()\n",
    "data['len'].describe()"
   ]
  },
  {
   "cell_type": "code",
   "execution_count": 17,
   "metadata": {
    "collapsed": true
   },
   "outputs": [],
   "source": [
    "data = data.sample(frac=1)"
   ]
  },
  {
   "cell_type": "code",
   "execution_count": 18,
   "metadata": {
    "collapsed": true
   },
   "outputs": [],
   "source": [
    "test = pd.read_csv(\"testData.tsv\", header=0, delimiter=\"\\t\", quoting=3)\n",
    "unlabeled = pd.read_csv(\"unlabeledTrainData.tsv\", header=0, delimiter=\"\\t\", quoting=3)"
   ]
  },
  {
   "cell_type": "code",
   "execution_count": 19,
   "metadata": {
    "collapsed": true
   },
   "outputs": [],
   "source": [
    "test['review_clean_nostop'] = test.apply(axis=1, func = lambda x: nostop(fast_clean(x.review),eng_stop))\n",
    "unlabeled['review_clean_nostop'] = unlabeled.apply(axis=1, func = lambda x: nostop(fast_clean(x.review),eng_stop))"
   ]
  },
  {
   "cell_type": "code",
   "execution_count": 20,
   "metadata": {},
   "outputs": [
    {
     "name": "stdout",
     "output_type": "stream",
     "text": [
      "I worked for 36.71 minutes\n"
     ]
    }
   ],
   "source": [
    "x = time.time()\n",
    "test['review_clean_nostop_droplow'] = test.apply(axis=1, func = lambda x: nostop(x.review_clean_nostop,dropL))\n",
    "unlabeled['review_clean_nostop_droplow'] = unlabeled.apply(axis=1, func = lambda x: nostop(x.review_clean_nostop,dropL))\n",
    "print('I worked for ' + str(round((time.time()-x)/60,2)) + ' minutes')"
   ]
  },
  {
   "cell_type": "code",
   "execution_count": 21,
   "metadata": {
    "collapsed": true
   },
   "outputs": [],
   "source": [
    "def build_corpus(data, x):\n",
    "    corpus = []\n",
    "    for sentence in data[x].iteritems():\n",
    "        word_list = sentence[1].split()\n",
    "        corpus.append(word_list)\n",
    "\n",
    "    return corpus\n",
    "\n",
    "corpus = build_corpus(data, 'review_clean_nostop_droplow')"
   ]
  },
  {
   "cell_type": "code",
   "execution_count": 22,
   "metadata": {
    "collapsed": true
   },
   "outputs": [],
   "source": [
    "corpus_test = build_corpus(test, 'review_clean_nostop_droplow')\n",
    "corpus_unlabeled = build_corpus(unlabeled, 'review_clean_nostop_droplow')"
   ]
  },
  {
   "cell_type": "code",
   "execution_count": 23,
   "metadata": {
    "collapsed": true
   },
   "outputs": [],
   "source": [
    "corpus_all = corpus + corpus_test + corpus_unlabeled"
   ]
  },
  {
   "cell_type": "code",
   "execution_count": 24,
   "metadata": {},
   "outputs": [
    {
     "name": "stdout",
     "output_type": "stream",
     "text": [
      "I worked for 0.59 minutes\n"
     ]
    }
   ],
   "source": [
    "x = time.time()\n",
    "n_dim = 50\n",
    "model2vec = word2vec.Word2Vec(corpus_all, size=n_dim, window=5, min_count=5, workers=4)\n",
    "print('I worked for ' + str(round((time.time()-x)/60,2)) + ' minutes')"
   ]
  },
  {
   "cell_type": "code",
   "execution_count": 35,
   "metadata": {
    "collapsed": true
   },
   "outputs": [],
   "source": [
    "def count_word(x,posne):\n",
    "    app = x.split()\n",
    "    count = 0\n",
    "    for i in app:\n",
    "        if i in posne:\n",
    "            count += 1\n",
    "    return(count)"
   ]
  },
  {
   "cell_type": "code",
   "execution_count": 36,
   "metadata": {
    "collapsed": true
   },
   "outputs": [],
   "source": [
    "pos = open('positive.txt', 'r', encoding='latin1').readlines()\n",
    "pos = \"\".join(pos).split(\"\\n\")\n",
    "\n",
    "neg = open('negative.txt', 'r', encoding='latin1').readlines()\n",
    "neg = \"\".join(neg).split(\"\\n\")"
   ]
  },
  {
   "cell_type": "code",
   "execution_count": 38,
   "metadata": {},
   "outputs": [
    {
     "name": "stdout",
     "output_type": "stream",
     "text": [
      "I worked for 4.97 minutes\n"
     ]
    }
   ],
   "source": [
    "x = time.time()\n",
    "\n",
    "data['positive'] = data.apply(axis=1, func = lambda x: count_word(x.review_clean_nostop_droplow, pos))\n",
    "data['negative'] = data.apply(axis=1, func = lambda x: count_word(x.review_clean_nostop_droplow, neg))\n",
    "\n",
    "data['positive_ratio'] = data['positive']/data['len']\n",
    "data['negative_ratio'] = data['negative']/data['len']\n",
    "\n",
    "data['special_char'] = data.apply(axis=1, func = lambda x: len(re.findall(\"\\.|\\:|\\;|\\,|\\(|\\)|\\[|\\]|\\&|\\'|\\\"|\\-|\\_|\\°|\\{|\\}|\\+\\*\\#\\@\\/\",x.review)))\n",
    "data['esclamation_mark'] = data.apply(axis=1, func = lambda x: len(re.findall(\"\\!\",x.review)))\n",
    "data['question_mark'] = data.apply(axis=1, func = lambda x: len(re.findall(\"\\?\",x.review)))\n",
    "\n",
    "print('I worked for ' + str(round((time.time()-x)/60,2)) + ' minutes')"
   ]
  },
  {
   "cell_type": "code",
   "execution_count": null,
   "metadata": {
    "collapsed": true
   },
   "outputs": [],
   "source": [
    "# model2vec.save('w2v_movies_sentiment')\n",
    "# data.to_csv('data_sentiment_movies.csv')"
   ]
  },
  {
   "cell_type": "code",
   "execution_count": 16,
   "metadata": {
    "collapsed": true
   },
   "outputs": [],
   "source": [
    "model2vec = Word2Vec.load('w2v_movies_sentiment')\n",
    "data = pd.read_csv('data_sentiment_movies.csv')"
   ]
  },
  {
   "cell_type": "markdown",
   "metadata": {},
   "source": [
    "## Let's play with KERAS!\n",
    "\n",
    "Keras is a cool neural network API written in Python. You can find all the documentation you need here: https://keras.io/#you-have-just-found-keras\n",
    "\n",
    "If you are confortable with math and you want to go deep you can find the introduction to CNN here:\n",
    "http://yann.lecun.com/exdb/publis/pdf/lecun-99.pdf\n",
    "\n",
    "Or a good easy explanation about CNN on NLP: \n",
    "http://www.wildml.com/2015/11/understanding-convolutional-neural-networks-for-nlp/"
   ]
  },
  {
   "cell_type": "code",
   "execution_count": 33,
   "metadata": {
    "collapsed": true
   },
   "outputs": [],
   "source": [
    "from keras.models import Model\n",
    "from keras.layers import Dense, Dropout, Activation, Input, BatchNormalization, ZeroPadding1D, GlobalAveragePooling1D\n",
    "from keras.layers import Embedding, Conv1D, concatenate\n",
    "from keras.callbacks import EarlyStopping, ReduceLROnPlateau\n",
    "from keras.optimizers import SGD\n",
    "from keras.preprocessing.text import Tokenizer\n",
    "from keras.preprocessing.sequence import pad_sequences"
   ]
  },
  {
   "cell_type": "code",
   "execution_count": 6,
   "metadata": {
    "collapsed": true
   },
   "outputs": [],
   "source": [
    "input_len = 200"
   ]
  },
  {
   "cell_type": "code",
   "execution_count": 7,
   "metadata": {},
   "outputs": [
    {
     "name": "stdout",
     "output_type": "stream",
     "text": [
      "Found 87173 unique tokens\n",
      "Shape of data tensor: (25000, 200)\n",
      "Shape of label tensor: (25000,)\n",
      "CPU times: user 6.85 s, sys: 76 ms, total: 6.93 s\n",
      "Wall time: 6.88 s\n"
     ]
    }
   ],
   "source": [
    "%%time\n",
    "texts = list(data.review.values)\n",
    "\n",
    "tokenizer = Tokenizer(num_words=25000)\n",
    "tokenizer.fit_on_texts(texts)\n",
    "\n",
    "sequences = tokenizer.texts_to_sequences(texts)\n",
    "\n",
    "word_index = tokenizer.word_index\n",
    "print('Found %s unique tokens' % len(word_index))\n",
    "\n",
    "data_1 = pad_sequences(sequences, maxlen=input_len)\n",
    "pred = np.array(data.sentiment.values)\n",
    "print('Shape of data tensor:', data_1.shape)\n",
    "print('Shape of label tensor:', pred.shape)"
   ]
  },
  {
   "cell_type": "code",
   "execution_count": 8,
   "metadata": {
    "collapsed": true
   },
   "outputs": [],
   "source": [
    "n_dim = 50"
   ]
  },
  {
   "cell_type": "code",
   "execution_count": 17,
   "metadata": {
    "collapsed": true
   },
   "outputs": [],
   "source": [
    "nb_words = min(200000, len(word_index))+1\n",
    "\n",
    "embedding_matrix = np.zeros((nb_words, n_dim))\n",
    "for word, i in word_index.items():\n",
    "    if word in model2vec.wv.vocab:\n",
    "        embedding_matrix[i] = model2vec.wv[word]"
   ]
  },
  {
   "cell_type": "code",
   "execution_count": 56,
   "metadata": {},
   "outputs": [
    {
     "name": "stdout",
     "output_type": "stream",
     "text": [
      "____________________________________________________________________________________________________\n",
      "Layer (type)                     Output Shape          Param #     Connected to                     \n",
      "====================================================================================================\n",
      "input_41 (InputLayer)            (None, 200)           0                                            \n",
      "____________________________________________________________________________________________________\n",
      "embedding_25 (Embedding)         (None, 200, 50)       4358700     input_41[0][0]                   \n",
      "____________________________________________________________________________________________________\n",
      "dropout_74 (Dropout)             (None, 200, 50)       0           embedding_25[0][0]               \n",
      "____________________________________________________________________________________________________\n",
      "conv1d_110 (Conv1D)              (None, 200, 128)      6528        dropout_74[0][0]                 \n",
      "____________________________________________________________________________________________________\n",
      "conv1d_111 (Conv1D)              (None, 199, 128)      12928       dropout_74[0][0]                 \n",
      "____________________________________________________________________________________________________\n",
      "conv1d_112 (Conv1D)              (None, 198, 128)      19328       dropout_74[0][0]                 \n",
      "____________________________________________________________________________________________________\n",
      "conv1d_113 (Conv1D)              (None, 197, 128)      25728       dropout_74[0][0]                 \n",
      "____________________________________________________________________________________________________\n",
      "global_average_pooling1d_41 (Glo (None, 128)           0           conv1d_110[0][0]                 \n",
      "____________________________________________________________________________________________________\n",
      "global_average_pooling1d_42 (Glo (None, 128)           0           conv1d_111[0][0]                 \n",
      "____________________________________________________________________________________________________\n",
      "global_average_pooling1d_43 (Glo (None, 128)           0           conv1d_112[0][0]                 \n",
      "____________________________________________________________________________________________________\n",
      "global_average_pooling1d_44 (Glo (None, 128)           0           conv1d_113[0][0]                 \n",
      "____________________________________________________________________________________________________\n",
      "concatenate_35 (Concatenate)     (None, 512)           0           global_average_pooling1d_41[0][0]\n",
      "                                                                   global_average_pooling1d_42[0][0]\n",
      "                                                                   global_average_pooling1d_43[0][0]\n",
      "                                                                   global_average_pooling1d_44[0][0]\n",
      "____________________________________________________________________________________________________\n",
      "dropout_75 (Dropout)             (None, 512)           0           concatenate_35[0][0]             \n",
      "____________________________________________________________________________________________________\n",
      "input_42 (InputLayer)            (None, 8)             0                                            \n",
      "____________________________________________________________________________________________________\n",
      "dense_58 (Dense)                 (None, 512)           262656      dropout_75[0][0]                 \n",
      "____________________________________________________________________________________________________\n",
      "dropout_76 (Dropout)             (None, 8)             0           input_42[0][0]                   \n",
      "____________________________________________________________________________________________________\n",
      "activation_48 (Activation)       (None, 512)           0           dense_58[0][0]                   \n",
      "____________________________________________________________________________________________________\n",
      "dense_59 (Dense)                 (None, 32)            288         dropout_76[0][0]                 \n",
      "____________________________________________________________________________________________________\n",
      "batch_normalization_48 (BatchNor (None, 512)           2048        activation_48[0][0]              \n",
      "____________________________________________________________________________________________________\n",
      "batch_normalization_49 (BatchNor (None, 32)            128         dense_59[0][0]                   \n",
      "____________________________________________________________________________________________________\n",
      "concatenate_36 (Concatenate)     (None, 544)           0           batch_normalization_48[0][0]     \n",
      "                                                                   batch_normalization_49[0][0]     \n",
      "____________________________________________________________________________________________________\n",
      "dropout_77 (Dropout)             (None, 544)           0           concatenate_36[0][0]             \n",
      "____________________________________________________________________________________________________\n",
      "dense_60 (Dense)                 (None, 256)           139520      dropout_77[0][0]                 \n",
      "____________________________________________________________________________________________________\n",
      "activation_49 (Activation)       (None, 256)           0           dense_60[0][0]                   \n",
      "____________________________________________________________________________________________________\n",
      "batch_normalization_50 (BatchNor (None, 256)           1024        activation_49[0][0]              \n",
      "____________________________________________________________________________________________________\n",
      "dropout_78 (Dropout)             (None, 256)           0           batch_normalization_50[0][0]     \n",
      "____________________________________________________________________________________________________\n",
      "dense_61 (Dense)                 (None, 128)           32896       dropout_78[0][0]                 \n",
      "____________________________________________________________________________________________________\n",
      "activation_50 (Activation)       (None, 128)           0           dense_61[0][0]                   \n",
      "____________________________________________________________________________________________________\n",
      "batch_normalization_51 (BatchNor (None, 128)           512         activation_50[0][0]              \n",
      "____________________________________________________________________________________________________\n",
      "dense_62 (Dense)                 (None, 1)             129         batch_normalization_51[0][0]     \n",
      "____________________________________________________________________________________________________\n",
      "activation_51 (Activation)       (None, 1)             0           dense_62[0][0]                   \n",
      "====================================================================================================\n",
      "Total params: 4,862,413\n",
      "Trainable params: 501,857\n",
      "Non-trainable params: 4,360,556\n",
      "____________________________________________________________________________________________________\n",
      "None\n"
     ]
    }
   ],
   "source": [
    "model_input = Input(shape=(input_len,))\n",
    "\n",
    "model = Embedding(nb_words, n_dim, weights=[embedding_matrix],input_length=input_len,\n",
    "        trainable=False)(model_input)\n",
    "\n",
    "model = Dropout(0.25)(model)\n",
    "\n",
    "C1 = Conv1D(filters=128, kernel_size=1, padding='valid', activation='relu')\n",
    "C2 = Conv1D(filters=128, kernel_size=2, padding='valid', activation='relu')\n",
    "C3 = Conv1D(filters=128, kernel_size=3, padding='valid', activation='relu')\n",
    "C4 = Conv1D(filters=128, kernel_size=4, padding='valid', activation='relu')\n",
    "\n",
    "C1 = C1(model)\n",
    "C2 = C2(model)\n",
    "C3 = C3(model)\n",
    "C4 = C4(model)\n",
    "\n",
    "GP1 = GlobalAveragePooling1D()(C1)\n",
    "GP2 = GlobalAveragePooling1D()(C2)\n",
    "GP3 = GlobalAveragePooling1D()(C3)\n",
    "GP4 = GlobalAveragePooling1D()(C4)\n",
    "\n",
    "model = concatenate([GP1, GP2, GP3, GP4])\n",
    "\n",
    "model = Dropout(0.25)(model)\n",
    "model = Dense(512)(model)\n",
    "model = Activation('relu')(model)\n",
    "model = BatchNormalization()(model)\n",
    "\n",
    "model_input2 = Input(shape=(8,))\n",
    "\n",
    "model2 = Dropout(0.25)(model_input2)\n",
    "model2 = Dense(32, activation='relu')(model2)\n",
    "model2 = BatchNormalization()(model2)\n",
    "\n",
    "model = concatenate([model, model2])\n",
    "\n",
    "model = Dropout(0.25)(model)\n",
    "model = Dense(256)(model)\n",
    "model = Activation('relu')(model)\n",
    "model = BatchNormalization()(model)\n",
    "\n",
    "model = Dropout(0.25)(model)\n",
    "model = Dense(128)(model)\n",
    "model = Activation('relu')(model)\n",
    "model = BatchNormalization()(model)\n",
    "\n",
    "model = Dense(1)(model)\n",
    "out = Activation('sigmoid')(model)\n",
    "\n",
    "opt = SGD(lr = 0.1, momentum = 0.9, nesterov=True)\n",
    "\n",
    "model = Model(inputs=[model_input,model_input2], outputs=out)\n",
    "\n",
    "model.compile(loss='binary_crossentropy',\n",
    "              optimizer=opt,\n",
    "              metrics=['accuracy'])\n",
    "\n",
    "print(model.summary())"
   ]
  },
  {
   "cell_type": "code",
   "execution_count": 39,
   "metadata": {
    "collapsed": true
   },
   "outputs": [],
   "source": [
    "extra_variable = ['positive','negative','positive_ratio','len','negative_ratio',\n",
    "                    'special_char','esclamation_mark','question_mark']"
   ]
  },
  {
   "cell_type": "code",
   "execution_count": 57,
   "metadata": {
    "scrolled": false
   },
   "outputs": [
    {
     "name": "stdout",
     "output_type": "stream",
     "text": [
      "Train on 15000 samples, validate on 10000 samples\n",
      "Epoch 1/200\n",
      "15000/15000 [==============================] - 3s - loss: 0.4523 - acc: 0.7891 - val_loss: 0.4951 - val_acc: 0.8383\n",
      "Epoch 2/200\n",
      "15000/15000 [==============================] - 2s - loss: 0.3756 - acc: 0.8381 - val_loss: 0.4140 - val_acc: 0.8542\n",
      "Epoch 3/200\n",
      "15000/15000 [==============================] - 2s - loss: 0.3659 - acc: 0.8421 - val_loss: 0.3948 - val_acc: 0.8501\n",
      "Epoch 4/200\n",
      "15000/15000 [==============================] - 2s - loss: 0.3572 - acc: 0.8448 - val_loss: 0.3680 - val_acc: 0.8436\n",
      "Epoch 5/200\n",
      "15000/15000 [==============================] - 2s - loss: 0.3541 - acc: 0.8493 - val_loss: 0.3334 - val_acc: 0.8636\n",
      "Epoch 6/200\n",
      "15000/15000 [==============================] - 2s - loss: 0.3463 - acc: 0.8485 - val_loss: 0.3205 - val_acc: 0.8613\n",
      "Epoch 7/200\n",
      "15000/15000 [==============================] - 2s - loss: 0.3424 - acc: 0.8527 - val_loss: 0.3220 - val_acc: 0.8615\n",
      "Epoch 8/200\n",
      "15000/15000 [==============================] - 2s - loss: 0.3409 - acc: 0.8528 - val_loss: 0.3206 - val_acc: 0.8587\n",
      "Epoch 9/200\n",
      "15000/15000 [==============================] - 2s - loss: 0.3395 - acc: 0.8515 - val_loss: 0.3174 - val_acc: 0.8663\n",
      "Epoch 10/200\n",
      "15000/15000 [==============================] - 2s - loss: 0.3382 - acc: 0.8562 - val_loss: 0.3058 - val_acc: 0.8677\n",
      "Epoch 11/200\n",
      "15000/15000 [==============================] - 2s - loss: 0.3347 - acc: 0.8584 - val_loss: 0.3154 - val_acc: 0.8627\n",
      "Epoch 12/200\n",
      "15000/15000 [==============================] - 2s - loss: 0.3333 - acc: 0.8556 - val_loss: 0.3084 - val_acc: 0.8658\n",
      "Epoch 13/200\n",
      "15000/15000 [==============================] - 2s - loss: 0.3288 - acc: 0.8551 - val_loss: 0.3100 - val_acc: 0.8634\n",
      "Epoch 14/200\n",
      "15000/15000 [==============================] - 2s - loss: 0.3244 - acc: 0.8643 - val_loss: 0.3022 - val_acc: 0.8709\n",
      "Epoch 15/200\n",
      "15000/15000 [==============================] - 2s - loss: 0.3249 - acc: 0.8604 - val_loss: 0.3015 - val_acc: 0.8734\n",
      "Epoch 16/200\n",
      "15000/15000 [==============================] - 2s - loss: 0.3221 - acc: 0.8625 - val_loss: 0.3089 - val_acc: 0.8670\n",
      "Epoch 17/200\n",
      "15000/15000 [==============================] - 2s - loss: 0.3272 - acc: 0.8589 - val_loss: 0.2988 - val_acc: 0.8733\n",
      "Epoch 18/200\n",
      "15000/15000 [==============================] - 2s - loss: 0.3214 - acc: 0.8627 - val_loss: 0.3013 - val_acc: 0.8705\n",
      "Epoch 19/200\n",
      "15000/15000 [==============================] - 2s - loss: 0.3195 - acc: 0.8618 - val_loss: 0.3044 - val_acc: 0.8680\n",
      "Epoch 20/200\n",
      "15000/15000 [==============================] - 2s - loss: 0.3205 - acc: 0.8629 - val_loss: 0.3025 - val_acc: 0.8694\n",
      "Epoch 21/200\n",
      "15000/15000 [==============================] - 2s - loss: 0.3121 - acc: 0.8658 - val_loss: 0.2989 - val_acc: 0.8718\n",
      "Epoch 22/200\n",
      "15000/15000 [==============================] - 2s - loss: 0.3105 - acc: 0.8657 - val_loss: 0.2944 - val_acc: 0.8740\n",
      "Epoch 23/200\n",
      "15000/15000 [==============================] - 2s - loss: 0.3147 - acc: 0.8648 - val_loss: 0.2933 - val_acc: 0.8768\n",
      "Epoch 24/200\n",
      "15000/15000 [==============================] - 2s - loss: 0.3093 - acc: 0.8705 - val_loss: 0.2910 - val_acc: 0.8782\n",
      "Epoch 25/200\n",
      "15000/15000 [==============================] - 2s - loss: 0.3084 - acc: 0.8687 - val_loss: 0.3008 - val_acc: 0.8703\n",
      "Epoch 26/200\n",
      "15000/15000 [==============================] - 2s - loss: 0.3090 - acc: 0.8673 - val_loss: 0.2855 - val_acc: 0.8759\n",
      "Epoch 27/200\n",
      "15000/15000 [==============================] - 2s - loss: 0.3013 - acc: 0.8722 - val_loss: 0.3001 - val_acc: 0.8719\n",
      "Epoch 28/200\n",
      "15000/15000 [==============================] - 2s - loss: 0.3007 - acc: 0.8702 - val_loss: 0.2957 - val_acc: 0.8757\n",
      "Epoch 29/200\n",
      "15000/15000 [==============================] - 2s - loss: 0.2994 - acc: 0.8707 - val_loss: 0.3062 - val_acc: 0.8722\n",
      "Epoch 30/200\n",
      "15000/15000 [==============================] - 2s - loss: 0.3034 - acc: 0.8701 - val_loss: 0.2939 - val_acc: 0.8731\n",
      "Epoch 31/200\n",
      "15000/15000 [==============================] - 2s - loss: 0.2985 - acc: 0.8722 - val_loss: 0.2908 - val_acc: 0.8750\n",
      "Epoch 32/200\n",
      "14592/15000 [============================>.] - ETA: 0s - loss: 0.2933 - acc: 0.8744\n",
      "Epoch 00031: reducing learning rate to 0.030000000447034835.\n",
      "15000/15000 [==============================] - 3s - loss: 0.2938 - acc: 0.8743 - val_loss: 0.2916 - val_acc: 0.8749\n",
      "Epoch 33/200\n",
      "15000/15000 [==============================] - 2s - loss: 0.2920 - acc: 0.8760 - val_loss: 0.2840 - val_acc: 0.8804\n",
      "Epoch 34/200\n",
      "15000/15000 [==============================] - 2s - loss: 0.2864 - acc: 0.8786 - val_loss: 0.2839 - val_acc: 0.8769\n",
      "Epoch 35/200\n",
      "15000/15000 [==============================] - 2s - loss: 0.2856 - acc: 0.8779 - val_loss: 0.2810 - val_acc: 0.8790\n",
      "Epoch 36/200\n",
      "15000/15000 [==============================] - 2s - loss: 0.2836 - acc: 0.8821 - val_loss: 0.2816 - val_acc: 0.8792\n",
      "Epoch 37/200\n",
      "15000/15000 [==============================] - 2s - loss: 0.2875 - acc: 0.8775 - val_loss: 0.2836 - val_acc: 0.8806\n",
      "Epoch 38/200\n",
      "15000/15000 [==============================] - 2s - loss: 0.2835 - acc: 0.8796 - val_loss: 0.2813 - val_acc: 0.8809\n",
      "Epoch 39/200\n",
      "15000/15000 [==============================] - 2s - loss: 0.2840 - acc: 0.8795 - val_loss: 0.2825 - val_acc: 0.8793\n",
      "Epoch 40/200\n",
      "15000/15000 [==============================] - 2s - loss: 0.2831 - acc: 0.8776 - val_loss: 0.2925 - val_acc: 0.8750\n",
      "Epoch 41/200\n",
      "15000/15000 [==============================] - 2s - loss: 0.2781 - acc: 0.8809 - val_loss: 0.2809 - val_acc: 0.8798\n",
      "Epoch 42/200\n",
      "15000/15000 [==============================] - 2s - loss: 0.2763 - acc: 0.8817 - val_loss: 0.2845 - val_acc: 0.8778\n",
      "Epoch 43/200\n",
      "15000/15000 [==============================] - 2s - loss: 0.2783 - acc: 0.8807 - val_loss: 0.2805 - val_acc: 0.8804\n",
      "Epoch 44/200\n",
      "15000/15000 [==============================] - 2s - loss: 0.2739 - acc: 0.8846 - val_loss: 0.2794 - val_acc: 0.8809\n",
      "Epoch 45/200\n",
      "15000/15000 [==============================] - 2s - loss: 0.2739 - acc: 0.8855 - val_loss: 0.2877 - val_acc: 0.8785\n",
      "Epoch 46/200\n",
      "15000/15000 [==============================] - 2s - loss: 0.2791 - acc: 0.8805 - val_loss: 0.2796 - val_acc: 0.8808\n",
      "Epoch 47/200\n",
      "15000/15000 [==============================] - 2s - loss: 0.2775 - acc: 0.8854 - val_loss: 0.2804 - val_acc: 0.8828\n",
      "Epoch 48/200\n",
      "15000/15000 [==============================] - 2s - loss: 0.2760 - acc: 0.8843 - val_loss: 0.2780 - val_acc: 0.8824\n",
      "Epoch 49/200\n",
      "15000/15000 [==============================] - 2s - loss: 0.2744 - acc: 0.8875 - val_loss: 0.2802 - val_acc: 0.8822\n",
      "Epoch 50/200\n",
      "15000/15000 [==============================] - 2s - loss: 0.2714 - acc: 0.8863 - val_loss: 0.2823 - val_acc: 0.8805\n",
      "Epoch 51/200\n",
      "15000/15000 [==============================] - 2s - loss: 0.2771 - acc: 0.8841 - val_loss: 0.2839 - val_acc: 0.8795\n",
      "Epoch 52/200\n",
      "15000/15000 [==============================] - 2s - loss: 0.2694 - acc: 0.8853 - val_loss: 0.2817 - val_acc: 0.8820\n",
      "Epoch 53/200\n",
      "15000/15000 [==============================] - 2s - loss: 0.2695 - acc: 0.8885 - val_loss: 0.2878 - val_acc: 0.8797\n",
      "Epoch 54/200\n",
      "14592/15000 [============================>.] - ETA: 0s - loss: 0.2624 - acc: 0.8895\n",
      "Epoch 00053: reducing learning rate to 0.009000000357627868.\n",
      "15000/15000 [==============================] - 2s - loss: 0.2628 - acc: 0.8893 - val_loss: 0.2815 - val_acc: 0.8818\n",
      "Epoch 55/200\n",
      "15000/15000 [==============================] - 2s - loss: 0.2711 - acc: 0.8862 - val_loss: 0.2787 - val_acc: 0.8818\n",
      "Epoch 56/200\n",
      "15000/15000 [==============================] - 2s - loss: 0.2622 - acc: 0.8919 - val_loss: 0.2804 - val_acc: 0.8819\n",
      "Epoch 57/200\n",
      "15000/15000 [==============================] - 2s - loss: 0.2617 - acc: 0.8927 - val_loss: 0.2780 - val_acc: 0.8832\n",
      "Epoch 58/200\n",
      "15000/15000 [==============================] - 2s - loss: 0.2647 - acc: 0.8897 - val_loss: 0.2804 - val_acc: 0.8817\n",
      "Epoch 59/200\n",
      "14592/15000 [============================>.] - ETA: 0s - loss: 0.2675 - acc: 0.8869\n",
      "Epoch 00058: reducing learning rate to 0.002700000163167715.\n",
      "15000/15000 [==============================] - 2s - loss: 0.2666 - acc: 0.8874 - val_loss: 0.2785 - val_acc: 0.8825\n",
      "Epoch 60/200\n",
      "15000/15000 [==============================] - 2s - loss: 0.2577 - acc: 0.8919 - val_loss: 0.2772 - val_acc: 0.8838\n",
      "Epoch 61/200\n",
      "15000/15000 [==============================] - 2s - loss: 0.2637 - acc: 0.8879 - val_loss: 0.2771 - val_acc: 0.8852\n",
      "Epoch 62/200\n",
      "15000/15000 [==============================] - 2s - loss: 0.2609 - acc: 0.8895 - val_loss: 0.2778 - val_acc: 0.8836\n",
      "Epoch 63/200\n",
      "15000/15000 [==============================] - 2s - loss: 0.2603 - acc: 0.8899 - val_loss: 0.2781 - val_acc: 0.8844\n",
      "Epoch 64/200\n",
      "15000/15000 [==============================] - 2s - loss: 0.2583 - acc: 0.8910 - val_loss: 0.2781 - val_acc: 0.8856\n",
      "Epoch 65/200\n",
      "15000/15000 [==============================] - 2s - loss: 0.2598 - acc: 0.8935 - val_loss: 0.2779 - val_acc: 0.8847\n",
      "Epoch 66/200\n",
      "15000/15000 [==============================] - 2s - loss: 0.2619 - acc: 0.8908 - val_loss: 0.2773 - val_acc: 0.8844\n",
      "Epoch 67/200\n",
      "14592/15000 [============================>.] - ETA: 0s - loss: 0.2571 - acc: 0.8926\n",
      "Epoch 00066: reducing learning rate to 0.0008100000210106373.\n",
      "15000/15000 [==============================] - 2s - loss: 0.2578 - acc: 0.8924 - val_loss: 0.2776 - val_acc: 0.8841\n",
      "Epoch 68/200\n",
      "15000/15000 [==============================] - 2s - loss: 0.2621 - acc: 0.8900 - val_loss: 0.2777 - val_acc: 0.8831\n",
      "Epoch 69/200\n",
      "15000/15000 [==============================] - 2s - loss: 0.2561 - acc: 0.8934 - val_loss: 0.2781 - val_acc: 0.8834\n",
      "Epoch 70/200\n",
      "15000/15000 [==============================] - 2s - loss: 0.2569 - acc: 0.8898 - val_loss: 0.2783 - val_acc: 0.8830\n",
      "Epoch 71/200\n",
      "15000/15000 [==============================] - 2s - loss: 0.2555 - acc: 0.8941 - val_loss: 0.2782 - val_acc: 0.8834\n",
      "Epoch 72/200\n",
      "14592/15000 [============================>.] - ETA: 0s - loss: 0.2574 - acc: 0.8904\n",
      "Epoch 00071: reducing learning rate to 0.00024299999931827186.\n",
      "15000/15000 [==============================] - 2s - loss: 0.2569 - acc: 0.8907 - val_loss: 0.2782 - val_acc: 0.8833\n"
     ]
    },
    {
     "data": {
      "text/plain": [
       "<keras.callbacks.History at 0x7f1870135f60>"
      ]
     },
     "execution_count": 57,
     "metadata": {},
     "output_type": "execute_result"
    }
   ],
   "source": [
    "model.fit([data_1[10000:],np.array(data[extra_variable][10000:])], pred[10000:],\n",
    "          batch_size=256,\n",
    "          epochs=200,\n",
    "          verbose=1,\n",
    "          validation_data=([data_1[:10000],np.array(data[extra_variable][:10000])],  pred[:10000]), \n",
    "          callbacks = [\n",
    "                      EarlyStopping(monitor='val_loss',patience=10)\n",
    "                      ,ReduceLROnPlateau(monitor='val_loss',patience=5,factor=0.3, min_lr=1e-6, verbose=1)\n",
    "                        ])"
   ]
  },
  {
   "cell_type": "markdown",
   "metadata": {},
   "source": [
    "I used unlabeledTrainData and TestData as corpus to train word2vec. In my experience it's ok. It doesn't generate overfitting. \n",
    "\n",
    "You can also decide to use the pre-trained model by Google (I've showed this model here: https://lnkd.in/dddZpKt). I preferred to train a new model because I preferred a lower-dimensional model. \n",
    "\n",
    "If you want to improve this notebook you have multiple ways:\n",
    "   \n",
    "Preprocessing:\n",
    "\n",
    "    1) You can choose better lists of words for \"positive\" and \"negative\"\n",
    "    2) You can cut by hand(!!!) some neutral most-common words. Be careful to not delete positive or negative words as \"good\",\"bad\" or similar!\n",
    "    3) You can create much more extra-variables\n",
    "    4) You can train word2vec more efficiently by tuning some parameters\n",
    "\n",
    "Model:\n",
    "\n",
    "    You have a large amount of ways to do better. I'll show you some alternatives in the future."
   ]
  },
  {
   "cell_type": "markdown",
   "metadata": {},
   "source": [
    "###### ABOUT THE MODEL:\n",
    "\n",
    "What I did was produce 4 different convolutions with different kernel size: from 1 until 4. That means I decided to keep in mind from mono-grams to four-grams. I tried also with 5 but I found overfitt.\n",
    "\n",
    "I'll show you (again if you didn't open it before) http://www.wildml.com/2015/11/understanding-convolutional-neural-networks-for-nlp/ a good explanation about CNN on NLP. In which you can find a really simple explanation of what I previosly said.\n",
    "\n",
    "###### P.S. This notebook is just an example.\n",
    "\n",
    "In this task there are several problems. Because of the length of the comments this task looks like a document classification. \n",
    "\n",
    "Because of that my personal advice is straightforward in this direction: http://aclweb.org/anthology/D15-1167\n",
    "\n",
    "I'll really appreciate to be contacted for new points of view or advices as well as better solutions.\n",
    "\n",
    "###### I hope you appreciate these examples. See you around,\n",
    "\n",
    "###### Federico"
   ]
  }
 ],
 "metadata": {
  "kernelspec": {
   "display_name": "Python 3",
   "language": "python",
   "name": "python3"
  },
  "language_info": {
   "codemirror_mode": {
    "name": "ipython",
    "version": 3
   },
   "file_extension": ".py",
   "mimetype": "text/x-python",
   "name": "python",
   "nbconvert_exporter": "python",
   "pygments_lexer": "ipython3",
   "version": "3.5.2"
  }
 },
 "nbformat": 4,
 "nbformat_minor": 2
}
